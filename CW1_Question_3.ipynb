{
  "nbformat": 4,
  "nbformat_minor": 0,
  "metadata": {
    "colab": {
      "provenance": []
    },
    "kernelspec": {
      "name": "python3",
      "display_name": "Python 3"
    },
    "language_info": {
      "name": "python"
    }
  },
  "cells": [
    {
      "cell_type": "markdown",
      "source": [
        "## Binary classification (Logistic regression): Question 3\n",
        "---\n",
        "\n",
        "Use the function that you have implemented in the previous questions to perform a $L_2$ regularized logistic regression on the dataset provided.\n",
        "\n",
        "The following section loads the cancer data."
      ],
      "metadata": {
        "id": "m0SytvpNwFhK"
      }
    },
    {
      "cell_type": "code",
      "execution_count": null,
      "metadata": {
        "id": "gnCwDhlnlPiP"
      },
      "outputs": [],
      "source": [
        "# %% Libraries\n",
        "import os\n",
        "import numpy as np\n",
        "import pandas as pd\n",
        "import matplotlib.pyplot as plt\n"
      ]
    },
    {
      "cell_type": "code",
      "source": [
        "# Load data for courework\n",
        "if not os.path.exists('./BE41003_Coursework'):\n",
        "  !git clone https://github.com/alperelli/BE41003_Coursework.git\n",
        "  !cp BE41003_Coursework/Cancer_Data.csv ./"
      ],
      "metadata": {
        "id": "0saNoQNLlUzy",
        "outputId": "c2092b4a-3371-4dcb-97aa-25b2946ab022",
        "colab": {
          "base_uri": "https://localhost:8080/"
        }
      },
      "execution_count": null,
      "outputs": [
        {
          "output_type": "stream",
          "name": "stdout",
          "text": [
            "Cloning into 'BE41003_Coursework'...\n",
            "remote: Enumerating objects: 4, done.\u001b[K\n",
            "remote: Counting objects: 100% (4/4), done.\u001b[K\n",
            "remote: Compressing objects: 100% (4/4), done.\u001b[K\n",
            "remote: Total 4 (delta 0), reused 4 (delta 0), pack-reused 0\u001b[K\n",
            "Receiving objects: 100% (4/4), 37.31 MiB | 30.84 MiB/s, done.\n"
          ]
        }
      ]
    },
    {
      "cell_type": "code",
      "source": [
        "# %% Read the cancer data file (format .csv)\n",
        "data = pd.read_csv(\"Cancer_Data.csv\")\n",
        "data.drop([\"Unnamed: 32\",\"id\"],axis=1,inplace = True)\n",
        "data.diagnosis = [1 if each == \"M\" else 0 for each in data.diagnosis]\n",
        "\n",
        "y = data.diagnosis.values\n",
        "x_data = data.drop([\"diagnosis\"],axis = 1)"
      ],
      "metadata": {
        "colab": {
          "base_uri": "https://localhost:8080/"
        },
        "id": "xhEpgchAt-Tn",
        "outputId": "52f430bd-2b16-4f54-8456-eb37dd732c29"
      },
      "execution_count": null,
      "outputs": [
        {
          "output_type": "stream",
          "name": "stderr",
          "text": [
            "/usr/local/lib/python3.10/dist-packages/numpy/core/fromnumeric.py:84: FutureWarning: In a future version, DataFrame.min(axis=None) will return a scalar min over the entire DataFrame. To retain the old behavior, use 'frame.min(axis=0)' or just 'frame.min()'\n",
            "  return reduction(axis=axis, out=out, **passkwargs)\n",
            "/usr/local/lib/python3.10/dist-packages/numpy/core/fromnumeric.py:84: FutureWarning: In a future version, DataFrame.max(axis=None) will return a scalar max over the entire DataFrame. To retain the old behavior, use 'frame.max(axis=0)' or just 'frame.max()'\n",
            "  return reduction(axis=axis, out=out, **passkwargs)\n",
            "/usr/local/lib/python3.10/dist-packages/numpy/core/fromnumeric.py:84: FutureWarning: In a future version, DataFrame.min(axis=None) will return a scalar min over the entire DataFrame. To retain the old behavior, use 'frame.min(axis=0)' or just 'frame.min()'\n",
            "  return reduction(axis=axis, out=out, **passkwargs)\n"
          ]
        }
      ]
    },
    {
      "cell_type": "markdown",
      "source": [
        "TODO: visualize the input data and target (y, x_data)"
      ],
      "metadata": {
        "id": "gknpL_RNxpXZ"
      }
    },
    {
      "cell_type": "code",
      "source": [
        "# Visualize data in the dataset\n",
        "# YOUR CODE HERE"
      ],
      "metadata": {
        "id": "bAJQhhrhxgfm"
      },
      "execution_count": null,
      "outputs": []
    },
    {
      "cell_type": "markdown",
      "source": [
        "TODO: Normalize the inpute data (x_data)"
      ],
      "metadata": {
        "id": "YA0RftyKxLnS"
      }
    },
    {
      "cell_type": "code",
      "source": [
        "# Input data normalization\n",
        "# YOUR CODE HERE"
      ],
      "metadata": {
        "id": "FUg9b0urxV55"
      },
      "execution_count": null,
      "outputs": []
    },
    {
      "cell_type": "markdown",
      "source": [
        "The data is split into training data and testing data."
      ],
      "metadata": {
        "id": "Id9N3uq_wyCK"
      }
    },
    {
      "cell_type": "code",
      "source": [
        "# Train Test Split 80% train 20% test\n",
        "from sklearn.model_selection import train_test_split\n",
        "x_train, x_test, y_train, y_test = train_test_split(x,y,test_size=0.2,random_state=42)\n",
        "\n",
        "x_train = x_train.T\n",
        "x_test = x_test.T\n",
        "y_train = y_train.T\n",
        "y_test = y_test.T"
      ],
      "metadata": {
        "id": "KTO1CB3sw2Er"
      },
      "execution_count": null,
      "outputs": []
    },
    {
      "cell_type": "markdown",
      "source": [
        "TODO: write a Python function to implement the sigmoid"
      ],
      "metadata": {
        "id": "u1rfzII-x4hC"
      }
    },
    {
      "cell_type": "code",
      "source": [
        "# Implementation sigmoid function\n",
        "# YOUR CODE HERE"
      ],
      "metadata": {
        "id": "c8yVK-x8mEo5"
      },
      "execution_count": null,
      "outputs": []
    },
    {
      "cell_type": "markdown",
      "source": [
        "TODO: write a Python function to initialize the parameters (weights) of the network before starting the training"
      ],
      "metadata": {
        "id": "02K4VPH3yRlH"
      }
    },
    {
      "cell_type": "code",
      "source": [
        "# Initialization network parameters\n",
        "# YOUR CODE HERE"
      ],
      "metadata": {
        "id": "sLSLIGUfyMKV"
      },
      "execution_count": null,
      "outputs": []
    },
    {
      "cell_type": "markdown",
      "source": [
        "TODO: Write the Python function (from Question 1) to calculate the $L_2$ regularized logistic cross entropy cost function."
      ],
      "metadata": {
        "id": "DMJaJD6YyzYU"
      }
    },
    {
      "cell_type": "code",
      "source": [
        "# function that computes the L2 regularized logistic cross entropy loss (cost fucntion and gradient)\n",
        "# YOUR CODE HERE"
      ],
      "metadata": {
        "id": "8Ud7RjzBy37E"
      },
      "execution_count": null,
      "outputs": []
    },
    {
      "cell_type": "markdown",
      "source": [
        "TODO: Write the Python function (from Question 2) to implement the Gradient Descent algorithm to minimize the  L2  regularized logistic cross entropy function."
      ],
      "metadata": {
        "id": "r7IffhekzK2W"
      }
    },
    {
      "cell_type": "code",
      "source": [
        "# Gradient descent minimizing algorithm\n",
        "# YOUR CODE HERE"
      ],
      "metadata": {
        "id": "LrQGTNDhzG8K"
      },
      "execution_count": null,
      "outputs": []
    },
    {
      "cell_type": "markdown",
      "source": [
        "TODO: Select the number of iterations, the learning rate, the regularization parameter and run the Gradient descent algorithm.\n",
        "\n",
        "Plot the convergence of the cost function."
      ],
      "metadata": {
        "id": "pMhdLLg0zXhE"
      }
    },
    {
      "cell_type": "code",
      "source": [
        "# Run gradient descent to get the theta values and plot the convergence result\n",
        "# YOUR CODE HERE"
      ],
      "metadata": {
        "id": "EAOaIjJuzV1R"
      },
      "execution_count": null,
      "outputs": []
    },
    {
      "cell_type": "markdown",
      "source": [
        "TODO: Run the Gradient Descent using different values of the regularization parameter. Does it affect the convergence plot?"
      ],
      "metadata": {
        "id": "foC0oEgEzeMW"
      }
    },
    {
      "cell_type": "code",
      "source": [
        "# Run gradient descent with different regularization parameter and plot the convergence results.\n",
        "# YOUR CODE HERE"
      ],
      "metadata": {
        "id": "O7VzxWZwzfS5"
      },
      "execution_count": null,
      "outputs": []
    }
  ]
}